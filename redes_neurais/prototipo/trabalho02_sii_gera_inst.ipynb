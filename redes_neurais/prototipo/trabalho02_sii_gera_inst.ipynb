{
 "cells": [
  {
   "cell_type": "code",
   "execution_count": 1,
   "metadata": {},
   "outputs": [],
   "source": [
    "import numpy as np\n",
    "import pandas as pd\n",
    "import matplotlib.pyplot as plt"
   ]
  },
  {
   "cell_type": "code",
   "execution_count": 22,
   "metadata": {},
   "outputs": [],
   "source": [
    "media = 3\n",
    "desvio = 2\n",
    "n = 1000"
   ]
  },
  {
   "cell_type": "code",
   "execution_count": 23,
   "metadata": {},
   "outputs": [],
   "source": [
    "sample = np.random.normal(media, desvio, n)"
   ]
  },
  {
   "cell_type": "code",
   "execution_count": 24,
   "metadata": {},
   "outputs": [
    {
     "data": {
      "text/plain": [
       "-0.10418833074623679"
      ]
     },
     "execution_count": 24,
     "metadata": {},
     "output_type": "execute_result"
    }
   ],
   "source": [
    "media - np.mean(sample)"
   ]
  },
  {
   "cell_type": "code",
   "execution_count": 25,
   "metadata": {},
   "outputs": [
    {
     "data": {
      "text/plain": [
       "0.03094549628035148"
      ]
     },
     "execution_count": 25,
     "metadata": {},
     "output_type": "execute_result"
    }
   ],
   "source": [
    "desvio - np.std(sample)"
   ]
  },
  {
   "cell_type": "code",
   "execution_count": 26,
   "metadata": {},
   "outputs": [
    {
     "data": {
      "text/plain": [
       "array([ 3.24147167e+00,  1.51295452e+00,  4.90244288e+00,  4.72869592e+00,\n",
       "        5.09270665e+00, -9.91061068e-02,  3.96053782e+00,  3.30163009e+00,\n",
       "        1.41611242e+00,  8.79145491e+00,  6.85606337e+00,  3.04488269e+00,\n",
       "        4.79085025e+00,  3.19082229e+00,  3.21478619e-01,  4.72024547e+00,\n",
       "        3.22021007e+00,  2.82116431e+00, -8.59784095e-01,  1.27716902e+00,\n",
       "        5.59989879e+00,  5.15136093e+00,  2.23976824e+00,  6.02437238e+00,\n",
       "        4.47519905e+00,  4.46477755e+00,  2.72889564e+00,  7.99540792e+00,\n",
       "        1.28568039e+00,  6.06817229e+00,  2.41139238e+00,  2.54877127e+00,\n",
       "        3.68396030e+00,  5.44699947e+00,  4.40653904e+00,  8.14240725e-01,\n",
       "        2.09987776e+00,  6.28364665e+00,  4.25684005e+00,  6.37059505e-01,\n",
       "        1.52832582e+00,  3.16776414e+00,  3.47585262e+00,  2.62339697e+00,\n",
       "       -4.41197775e-01,  2.80722537e+00,  6.58693910e+00,  7.18202332e+00,\n",
       "        3.96878860e+00,  1.18668815e+00,  1.10095380e+00,  4.74219761e+00,\n",
       "        4.25550980e-01,  8.98658315e-01,  6.32599233e+00,  4.57244912e+00,\n",
       "        3.26970403e+00,  3.16373396e+00,  3.72510181e+00,  2.01285581e+00,\n",
       "        3.15814876e+00, -8.60216203e-02, -1.37720835e+00,  3.48343155e+00,\n",
       "        1.38663015e+00,  4.04052821e+00,  6.23156793e+00,  8.28881543e+00,\n",
       "        5.55573968e+00,  4.96266119e+00,  4.30876864e+00,  3.31043378e+00,\n",
       "        3.87949709e+00,  3.66613962e+00,  7.10446567e-01,  5.79095767e+00,\n",
       "        4.34585573e+00,  2.21781208e+00,  5.34452895e+00, -1.98377419e+00,\n",
       "        6.15745059e+00,  8.19769312e+00,  6.12427602e-01,  3.30670430e+00,\n",
       "        2.14924837e+00,  2.25340241e+00,  6.16062475e+00,  1.47533348e+00,\n",
       "        3.37253651e+00,  4.25214416e+00,  5.06727583e+00,  5.59938880e+00,\n",
       "        3.08182216e+00,  3.75458404e+00,  1.29263933e+00,  1.34301971e+00,\n",
       "        1.14452288e+00,  2.99841437e+00,  2.78967432e+00,  4.11521205e+00,\n",
       "        7.93643701e-01,  5.87100846e-01,  3.00256666e+00,  2.64791559e+00,\n",
       "       -4.15053701e-01,  4.38027075e+00,  4.89199223e+00,  1.79519884e+00,\n",
       "       -1.04739970e+00,  4.18857356e-01,  4.97585263e+00,  2.38404442e+00,\n",
       "        5.94484878e+00,  1.22976075e+00,  5.48949815e+00,  4.03895281e+00,\n",
       "       -7.02974699e-01,  2.77844064e+00,  2.25145517e+00,  4.78483552e+00,\n",
       "        4.99412769e+00,  3.15851784e+00,  9.80405657e-01, -2.73654726e-01,\n",
       "        2.93831902e+00, -6.71104011e-01,  2.10950581e+00,  7.84550816e+00,\n",
       "        1.52032260e+00,  3.37670099e+00,  1.57946745e-02,  1.10453961e+00,\n",
       "        3.46020449e+00,  3.47438199e+00,  4.18865472e+00,  4.35863222e+00,\n",
       "        8.37849546e+00,  2.25110877e+00,  9.72526422e+00,  2.85198398e+00,\n",
       "        5.07648586e+00,  4.86307498e+00,  3.63661261e+00,  4.84539650e+00,\n",
       "        6.36917590e+00,  3.52755224e+00,  4.25668646e+00,  5.19616108e+00,\n",
       "        3.97103488e+00,  3.50770402e+00,  2.79789525e+00,  3.30846509e+00,\n",
       "       -1.63058446e-01,  5.92696794e-01,  2.57826536e+00,  2.83198417e+00,\n",
       "        2.60568717e+00,  1.17661401e+00,  1.74405571e+00,  3.33741309e+00,\n",
       "        5.53611737e+00,  5.84278237e+00,  3.22263198e+00,  8.00874257e-01,\n",
       "        5.80290730e+00,  1.07874460e-01,  2.99393257e+00,  4.63464835e+00,\n",
       "        3.10789529e+00,  5.19173816e+00,  5.25195053e+00,  1.03749083e+00,\n",
       "        3.32486575e+00,  1.79842811e+00,  2.47906843e+00,  3.83359393e+00,\n",
       "        2.40418730e+00,  2.58075244e+00,  5.01059104e+00,  2.28947293e+00,\n",
       "        1.61503965e+00,  3.27751066e+00,  3.00341288e+00,  2.52502794e+00,\n",
       "        1.69091099e+00,  1.53181762e+00,  4.35533471e+00,  7.44503624e-01,\n",
       "        2.22625011e+00,  3.02701869e+00,  3.36507175e+00,  3.99862410e+00,\n",
       "        1.92044817e+00,  4.33157952e+00, -9.72661127e-03,  5.19934265e+00,\n",
       "        4.76754233e+00,  2.61214113e+00,  3.73883920e+00, -2.45695153e-01,\n",
       "        1.35448080e+00,  5.87658887e+00, -2.10197247e-01,  2.88763076e-01,\n",
       "        3.38979622e+00,  2.12568988e+00,  2.80329966e-02,  1.67777027e+00,\n",
       "        4.13285992e+00,  3.20562947e+00,  1.47723771e-01,  1.33438807e-01,\n",
       "        8.25447033e-01,  3.25588713e+00,  6.82148511e-01,  2.70343091e+00,\n",
       "        2.03727188e+00,  3.43887274e+00,  4.66667680e-01,  3.09863658e+00,\n",
       "        2.56459788e+00,  5.18667700e+00,  1.85723915e+00,  6.91722350e+00,\n",
       "        4.14042114e+00,  3.06139058e+00,  7.13550873e-01,  5.04318816e+00,\n",
       "        5.89422260e+00,  1.72916431e+00,  2.60223247e+00,  4.93886198e+00,\n",
       "        3.57520902e+00,  4.50935227e+00,  1.49655164e+00,  8.53636023e-01,\n",
       "        9.64701938e-01,  2.42358270e+00,  4.03664958e+00,  3.34469272e+00,\n",
       "        4.23796434e+00,  5.77026071e+00,  6.13291290e+00,  5.49964756e+00,\n",
       "        2.26428541e+00,  9.14219753e+00,  3.81795258e+00,  1.69245598e+00,\n",
       "        1.47446607e+00,  4.45324608e-01,  1.38242088e+00,  3.26608958e+00,\n",
       "        2.29977576e+00,  1.74655205e+00,  2.08753839e+00,  3.49843872e+00,\n",
       "        3.03644996e+00,  3.68167479e+00,  1.56231127e+00,  3.95054199e+00,\n",
       "        1.09149062e+00,  2.21974123e+00,  3.80052654e+00,  2.48749550e+00,\n",
       "        5.60762331e-01,  2.77005798e+00, -3.94586303e-01, -7.82356681e-01,\n",
       "        2.96546489e+00,  2.00647262e+00,  2.97568296e+00,  2.49396042e+00,\n",
       "        1.34631358e+00,  3.78288110e+00,  2.77073425e+00,  2.97210710e+00,\n",
       "        3.83026766e+00, -1.57237404e+00,  2.55382291e+00,  2.68681472e+00,\n",
       "        5.37563204e+00,  5.46892943e+00,  3.10210155e+00,  2.01838300e+00,\n",
       "       -3.29715659e-01,  4.14925432e+00,  2.49010735e+00,  6.67764475e+00,\n",
       "       -1.01767948e+00, -2.89837234e+00,  2.00001400e+00,  3.24495084e+00,\n",
       "        2.37618976e+00,  2.22268253e+00,  3.05256926e-01,  2.34036835e+00,\n",
       "        2.96493750e+00,  1.62464448e+00,  2.53310710e+00,  4.29982281e+00,\n",
       "        8.87277476e-01,  4.00867378e+00,  1.63973437e+00,  7.94295801e-02,\n",
       "        1.33292066e+00,  2.07690767e+00,  1.08928834e+00,  2.81147784e+00,\n",
       "        2.23776433e+00, -3.57652137e-01,  5.13346332e+00,  4.94870151e+00,\n",
       "        5.04089432e+00,  1.82916221e-01,  1.34469932e+00,  5.90196861e+00,\n",
       "        3.71783799e+00,  1.32137710e+00,  4.34788518e+00,  2.81744332e+00,\n",
       "        2.91606753e+00,  1.63498374e-01,  4.53324920e+00,  4.20387678e+00,\n",
       "        7.83881634e-01,  6.63362032e-02,  3.00234103e+00,  2.87253254e+00,\n",
       "        4.36503347e+00,  1.37212772e+00,  1.99875582e+00, -1.65499252e-01,\n",
       "        2.73447728e+00,  1.40187220e+00,  4.09647288e+00,  3.47217395e+00,\n",
       "        8.74438217e-01,  3.27994695e+00,  7.60228307e+00,  3.35540216e+00,\n",
       "        4.05930068e+00,  4.32006403e-03,  2.97023626e+00,  5.00731156e+00,\n",
       "        2.20148643e+00,  2.30746081e+00,  1.76903014e+00,  4.30054436e+00,\n",
       "        1.59756039e+00,  3.62178142e+00,  1.56453422e+00,  1.24036741e+00,\n",
       "        2.04815721e+00,  3.88825227e+00,  6.72142124e-01,  5.00058566e+00,\n",
       "        3.26424722e+00,  6.23678536e+00,  4.30841328e+00,  2.50198584e+00,\n",
       "        1.68067131e+00,  1.10464221e+00,  5.23987871e+00,  1.77675744e+00,\n",
       "        1.54988052e+00,  2.29982343e+00,  3.90013876e+00, -1.08748428e+00,\n",
       "        1.12178412e+00,  5.22582826e+00,  6.57664790e-01,  5.11573429e-01,\n",
       "        2.37363487e+00,  4.08220473e+00,  2.66434936e+00,  4.04466495e+00,\n",
       "        1.01470004e+00,  2.11057974e+00,  2.13614362e+00,  2.44289255e+00,\n",
       "        1.50422019e-01,  3.37170089e+00,  2.31807458e+00,  4.66442862e+00,\n",
       "        2.68683868e+00,  5.61589562e+00,  4.61762440e+00,  3.33557002e+00,\n",
       "        4.97910922e+00,  5.13430078e+00,  2.93916116e+00,  8.26929943e+00,\n",
       "        3.16991873e+00,  3.21978622e+00,  1.96853742e-01,  2.74056561e+00,\n",
       "        4.41459455e-01,  3.77837955e+00,  1.33993703e+00,  6.20485045e+00,\n",
       "        8.85929300e-01,  1.68384587e+00,  1.25579719e+00,  4.53947704e+00,\n",
       "        4.27770265e+00,  8.06434180e+00,  6.08120450e+00,  5.61641190e+00,\n",
       "        1.70003257e+00,  2.19302353e+00,  4.15421805e+00,  1.00755156e+00,\n",
       "        1.78807799e+00,  1.35876013e+00,  4.01362200e+00,  6.80217667e+00,\n",
       "       -8.25153456e-01,  4.84050851e+00,  4.19308885e+00,  4.17232926e+00,\n",
       "        3.29277017e+00,  6.19845437e+00,  1.85298734e+00,  4.81679664e+00,\n",
       "        2.10198914e+00,  4.02305341e+00,  1.96517971e-01,  4.77483238e+00,\n",
       "        2.40443587e+00,  1.06757416e+00,  3.68814837e+00, -2.41695932e-01,\n",
       "        2.26802676e+00,  5.12157388e+00,  3.76466261e+00,  5.14557321e+00,\n",
       "        1.95801404e+00,  4.62731292e+00,  6.58474828e+00,  4.82297336e+00,\n",
       "        3.25636186e+00,  5.45297317e+00,  3.91453240e+00,  3.21442954e+00,\n",
       "        5.73577089e+00,  3.79992494e+00,  4.03518729e+00,  2.56321164e+00,\n",
       "        4.14488987e+00,  3.65025695e+00,  2.80931021e+00,  2.11266139e+00,\n",
       "        3.82629357e+00,  3.13942953e+00,  3.95995990e+00,  2.25386990e+00,\n",
       "        3.17762836e+00,  6.93483283e+00,  1.20619206e+00,  1.87629036e+00,\n",
       "        1.61439484e+00,  7.15270056e+00,  2.60223689e+00,  1.17455349e+00,\n",
       "        1.99329395e+00,  4.58641504e+00,  3.64222428e+00,  3.17868381e+00,\n",
       "        5.11405364e+00, -1.44968317e+00,  2.69508324e+00,  3.20721865e+00,\n",
       "        2.97514838e+00,  1.30712145e+00,  1.15093601e+00,  4.94243165e+00,\n",
       "        3.76827455e+00,  3.39478016e+00,  6.85647884e+00,  3.73739551e+00,\n",
       "        2.84352290e+00,  2.10191311e+00,  3.91687663e+00,  5.74074021e+00,\n",
       "        3.30920372e+00,  2.00609378e+00,  1.22199070e+00,  4.03651830e+00,\n",
       "        5.10649738e+00,  3.92503098e+00,  1.99141029e+00,  4.74668065e+00,\n",
       "        4.68446881e+00,  4.90456719e+00,  9.90364445e-01,  2.67641869e+00,\n",
       "        1.54179667e+00,  4.32604613e+00,  1.05010235e+00,  2.15831298e+00,\n",
       "        3.91104375e+00,  3.57845203e+00,  6.05351446e+00,  3.00817943e+00,\n",
       "        2.03320950e+00,  3.76637745e+00,  2.62623384e+00,  4.79376783e+00,\n",
       "        4.97686956e+00, -1.92986180e+00,  2.75522538e-01,  5.06672711e+00,\n",
       "       -9.69478130e-01,  4.16876173e+00,  1.27498887e+00,  3.45650728e+00,\n",
       "        1.35124934e+00,  2.00735139e+00, -1.88532800e+00,  1.44407029e+00,\n",
       "        3.25591919e+00,  3.68173153e+00,  8.26076610e+00,  2.89545591e+00,\n",
       "        4.98374937e+00,  4.61008521e+00,  6.40672578e+00,  4.48088969e+00,\n",
       "        4.22799599e+00,  4.71879151e+00,  4.49038838e+00,  3.11720333e-04,\n",
       "        3.37300650e+00,  3.85523496e+00,  1.73173183e+00,  1.21450278e+00,\n",
       "        1.90735426e+00,  9.74999200e-01,  9.08876556e-01,  5.02795606e+00,\n",
       "        4.66313067e+00,  3.76202653e+00, -1.49740882e+00,  2.55883246e+00,\n",
       "        3.36026851e+00,  4.29296348e+00,  4.78650144e+00,  4.69318811e+00,\n",
       "        1.49624616e+00,  5.10343962e+00,  4.57518643e+00,  9.30744298e-01,\n",
       "        1.84287041e+00,  1.49802938e+00,  3.19493482e+00,  2.45519436e+00,\n",
       "        5.82068835e+00,  5.52589712e+00,  2.72632048e+00,  3.04187044e+00,\n",
       "        5.46302553e+00,  3.90069606e+00,  4.38895054e+00,  2.11368828e+00,\n",
       "        2.46254854e+00,  2.32047298e+00,  3.82487977e+00, -9.61497710e-04,\n",
       "        1.97747903e+00,  1.98120276e+00,  8.70896440e-01,  1.95042443e+00,\n",
       "        5.32953186e+00,  1.61657180e+00,  5.50389477e+00, -2.35938102e-01,\n",
       "        6.12275900e+00,  1.65806420e+00,  1.28432048e+00,  7.68035322e+00,\n",
       "        5.54989239e+00,  4.31248628e+00,  5.31929886e+00,  2.00260736e+00,\n",
       "        4.43399182e+00,  5.33897528e+00,  3.78296016e+00,  1.83224900e+00,\n",
       "       -1.05163558e+00,  2.01907103e+00,  2.76288578e+00,  5.55415730e+00,\n",
       "        3.17389212e+00,  3.18664602e+00,  4.80867660e+00,  3.66288251e+00,\n",
       "        4.46901633e+00,  2.97133569e+00,  4.17533883e+00,  3.99936167e+00,\n",
       "        2.61980906e+00,  1.54871586e+00,  1.67093154e+00,  3.68973481e+00,\n",
       "        1.70039171e+00,  4.03363802e+00,  7.11677394e+00,  2.91752832e+00,\n",
       "        6.39924968e+00,  3.74591530e+00,  1.52726844e+00,  1.75425320e+00,\n",
       "        4.65936211e+00,  7.18971371e+00,  4.84970925e+00,  4.54038527e+00,\n",
       "        2.03822120e+00,  3.93833181e+00,  4.60164143e+00,  3.70662734e+00,\n",
       "        1.79637677e+00,  1.67587320e+00,  2.64648415e+00,  1.42014879e+00,\n",
       "        4.41521462e+00,  2.90273372e+00,  5.60300551e+00,  8.04585195e-01,\n",
       "        2.98975019e+00,  7.56759083e-01,  9.03502423e-01,  1.26071504e+00,\n",
       "        2.04288218e+00, -7.17778456e-01,  3.82232583e+00,  1.23191382e+00,\n",
       "        5.99389702e+00, -2.40511495e-01,  5.39550531e+00,  3.72364993e+00,\n",
       "        3.92381082e+00,  2.91631327e-01,  3.54317181e+00,  3.17343614e+00,\n",
       "        1.92148863e+00,  4.97785446e+00,  3.90850485e+00,  1.17583861e+00,\n",
       "        5.00145680e+00,  5.71047744e+00,  1.08773918e+00,  4.46244572e+00,\n",
       "        7.47110902e-01,  9.89010202e-01,  1.16837400e+00,  2.79762431e+00,\n",
       "        3.53016059e+00,  4.06118970e-01,  4.01864135e+00,  1.73629435e+00,\n",
       "        1.86598774e+00,  4.40508463e+00,  2.63344089e+00,  1.50155870e+00,\n",
       "        4.07736304e+00,  2.72226781e+00,  5.07063866e+00,  2.92716680e+00,\n",
       "        9.47202216e-01,  3.07438423e+00,  2.07798970e+00,  2.61082730e+00,\n",
       "        4.14872151e+00,  7.16138685e+00,  4.08042821e-01,  2.16371933e+00,\n",
       "        3.88206303e-03,  1.09364502e+00,  3.14602417e+00,  5.81803983e+00,\n",
       "        1.94636258e+00,  4.21872227e+00,  4.81394734e+00,  4.51760866e+00,\n",
       "        7.47487864e+00,  5.70562456e+00,  2.79477909e+00,  1.71749002e+00,\n",
       "        3.70904599e+00,  1.98587428e+00,  1.94266435e+00,  6.22041250e+00,\n",
       "        4.72404745e+00,  8.94591617e-01,  5.32215056e+00,  2.98297479e+00,\n",
       "        5.78240221e+00,  4.65372892e+00,  2.88825031e+00, -1.52837202e+00,\n",
       "        2.07725677e+00,  5.20064141e+00,  3.23939635e+00,  2.51903079e+00,\n",
       "        6.18046640e+00, -1.45388989e+00,  2.90509682e+00,  4.70544863e+00,\n",
       "        2.02228222e-01,  5.98512107e+00,  4.36110303e+00,  3.91305007e+00,\n",
       "        1.70474533e+00,  3.67696527e+00,  2.11452333e+00, -1.06670127e-01,\n",
       "        4.08528796e+00,  2.70933395e+00,  9.27831851e-01,  3.12086001e+00,\n",
       "        2.15468625e-01,  2.64621657e+00,  2.19620100e+00,  3.63191346e+00,\n",
       "       -6.14236171e-01,  2.89239628e+00,  4.77752728e+00,  2.30815139e+00,\n",
       "        4.63536981e+00,  8.93967861e-01,  3.85896044e+00,  4.45468354e+00,\n",
       "        4.49420205e+00,  3.67890528e+00,  4.98335975e+00,  4.05040922e+00,\n",
       "        3.86591582e+00,  3.89460978e+00,  2.41360388e+00,  3.38061972e+00,\n",
       "        3.34745450e+00, -3.01885466e-02,  1.87704410e+00,  2.17746323e+00,\n",
       "        6.51558309e+00,  2.21202610e+00,  2.09604873e+00,  4.37657358e+00,\n",
       "        1.75397728e+00,  5.54991576e+00,  1.71471700e+00,  8.58714512e+00,\n",
       "        4.40084954e+00,  3.74278628e+00,  5.36373788e+00,  6.12846920e+00,\n",
       "       -1.84615678e+00,  3.20355834e+00,  5.72303308e+00,  2.05516176e+00,\n",
       "        2.00179300e+00,  3.18561567e+00,  2.84122600e+00,  2.75920710e-01,\n",
       "        1.34676145e-01,  3.24468411e+00,  4.02520363e+00,  2.56619507e+00,\n",
       "        2.66169043e+00,  3.95833088e+00,  4.04249402e+00,  3.66113518e+00,\n",
       "        1.85331376e+00,  2.64201051e+00,  3.54585702e+00,  5.43194800e+00,\n",
       "        5.23984460e+00,  2.99516265e+00,  9.51582490e+00, -5.49489734e-01,\n",
       "        4.39472507e+00,  5.55965847e+00,  3.78488185e+00,  4.40626384e+00,\n",
       "        5.76947371e+00,  3.24722067e+00,  6.95903714e-01,  5.92282489e+00,\n",
       "        1.17722994e+00,  1.34167036e+00,  1.81966170e+00,  4.70714125e+00,\n",
       "        5.12975870e+00,  4.77784688e+00,  4.12289801e+00,  2.61098486e+00,\n",
       "        3.14789495e+00,  4.16430222e+00,  2.90752711e+00,  1.23420360e+00,\n",
       "        2.86255107e-01,  8.52890554e+00,  5.55711739e+00,  2.81491855e+00,\n",
       "        1.23020271e+00,  5.41199412e+00,  5.14526234e+00,  1.48318610e+00,\n",
       "        2.15592904e+00,  6.30880103e+00,  2.32655169e+00,  1.74847567e+00,\n",
       "        6.10228971e+00, -2.37008756e-02,  3.11881769e+00,  4.98648974e+00,\n",
       "        2.72379017e+00, -1.99288775e+00,  2.18957702e+00,  4.02305651e+00,\n",
       "        4.30320684e+00, -2.93563302e-01,  1.39865015e+00,  5.25782220e-01,\n",
       "        4.56333114e+00,  2.29417680e+00,  2.50849345e+00,  8.92371647e-01,\n",
       "        5.22672979e+00,  6.06032668e+00,  1.31459622e+00,  5.75250802e+00,\n",
       "        3.32809420e+00,  3.29267955e+00,  2.69790017e+00,  4.12330221e+00,\n",
       "        3.13581078e+00,  3.80481615e+00,  5.16281346e+00,  4.49148403e+00,\n",
       "        3.33996211e+00,  2.25431429e+00,  4.92786524e+00,  2.98880548e+00,\n",
       "        1.71411198e+00,  5.71760881e+00,  2.01661339e+00,  4.66619032e+00,\n",
       "        2.43241109e+00,  3.00618784e+00,  2.93943684e+00,  3.80473932e+00,\n",
       "        6.15496764e+00,  2.91443756e+00,  3.21971716e+00,  3.27961811e+00,\n",
       "        3.17341381e-01,  3.60365216e+00,  1.56856188e+00,  2.57541712e+00,\n",
       "        1.59167270e+00,  1.15251577e-01,  6.83655567e+00,  8.00025159e+00,\n",
       "        6.20990348e+00,  3.30712866e+00,  3.86389421e+00,  5.83493834e+00,\n",
       "        3.74180503e+00,  2.75387983e+00,  4.11303771e+00,  2.92806278e-01,\n",
       "        2.28072266e+00,  4.23561207e+00, -1.00298748e+00,  2.88113110e+00,\n",
       "        1.57111833e+00,  6.97570726e+00,  2.83574436e+00,  2.47929549e+00,\n",
       "        7.53153967e+00,  2.25043734e+00,  3.73951435e+00,  3.77216535e+00,\n",
       "        2.40120874e+00,  3.33396147e+00,  1.57873793e+00,  4.76339691e+00,\n",
       "        3.11537926e+00,  2.35954377e+00,  2.32091046e+00,  1.27563295e+00,\n",
       "        3.02002849e+00,  5.15797451e+00,  1.92190027e+00,  3.10038638e+00,\n",
       "        2.08008614e+00,  1.20123260e+00,  2.18940808e+00,  2.89116883e+00,\n",
       "        4.37945636e-01,  3.77840678e+00,  2.18314546e+00,  1.78303848e+00,\n",
       "        9.54352234e-01,  3.98409175e+00,  5.07056289e+00,  1.09738981e+01,\n",
       "        4.15875660e+00,  3.01666082e+00,  1.38322747e-01,  4.90665942e+00,\n",
       "        3.00309720e+00,  3.04450721e+00,  1.16204424e+00,  3.00919123e+00,\n",
       "        2.24667289e+00,  1.20496222e+00,  3.59092226e+00,  2.78484507e+00,\n",
       "        3.29915471e+00,  3.96454239e+00,  1.54560103e+00,  4.55957817e+00,\n",
       "        3.29590518e-01,  2.44744028e+00,  9.29894340e-01,  5.53130398e+00,\n",
       "        2.50897032e+00,  6.62631473e+00,  4.60060989e+00,  9.95599185e-01,\n",
       "       -5.74941840e-01,  1.42424730e+00,  2.57289140e+00,  3.78840610e+00,\n",
       "        1.60566225e+00,  4.48636566e+00,  2.12010184e+00,  1.05282653e+00,\n",
       "        6.60436488e+00,  2.05440976e+00,  1.33625400e+00,  1.45330439e+00,\n",
       "        2.25883587e+00,  4.75717973e+00,  3.66948489e+00,  3.07955296e+00,\n",
       "        5.47004845e+00,  3.93492641e+00,  5.66761022e+00,  2.36084555e+00,\n",
       "        8.75855493e-01, -8.71946462e-01,  5.64571920e+00,  4.13931372e+00,\n",
       "        4.68522490e+00,  2.70043034e+00,  2.62399333e+00,  4.35071039e+00,\n",
       "        6.04757491e+00,  6.47997306e-01,  5.62428862e+00,  8.32042859e-01,\n",
       "        4.28108554e+00,  4.40462587e+00,  4.87720551e+00,  4.59761909e+00,\n",
       "        2.01190442e+00,  3.17618907e+00,  7.54044326e+00,  5.60927980e+00,\n",
       "        4.07361444e+00,  5.05337424e+00,  4.45043901e+00,  1.08056010e+00,\n",
       "        2.56394394e+00,  1.57558285e+00,  2.33200597e+00,  4.16446066e+00,\n",
       "        3.42221964e+00,  6.66620292e+00,  2.09097757e+00,  5.71835227e+00,\n",
       "        3.99883885e+00,  1.36512886e+00,  1.78382866e+00,  1.24535245e+00,\n",
       "        3.24648341e+00,  3.54090199e+00,  2.60225184e+00,  2.14778567e+00,\n",
       "       -1.01075845e-01,  6.88095040e+00,  5.54616751e+00,  4.12345815e+00,\n",
       "        3.25782104e+00,  1.05972962e+00,  1.14076014e+00, -6.06582321e-01])"
      ]
     },
     "execution_count": 26,
     "metadata": {},
     "output_type": "execute_result"
    }
   ],
   "source": [
    "sample"
   ]
  },
  {
   "cell_type": "code",
   "execution_count": 28,
   "metadata": {},
   "outputs": [
    {
     "data": {
      "text/plain": [
       "(array([ 1.,  2.,  5.,  6., 13., 16., 38., 28., 66., 74., 82., 89., 88.,\n",
       "        88., 91., 79., 61., 54., 46., 29., 11., 12.,  5.,  5.,  6.,  1.,\n",
       "         2.,  1.,  0.,  1.]),\n",
       " array([-2.89837234, -2.43596332, -1.97355431, -1.5111453 , -1.04873628,\n",
       "        -0.58632727, -0.12391826,  0.33849076,  0.80089977,  1.26330878,\n",
       "         1.7257178 ,  2.18812681,  2.65053582,  3.11294484,  3.57535385,\n",
       "         4.03776286,  4.50017188,  4.96258089,  5.42498991,  5.88739892,\n",
       "         6.34980793,  6.81221695,  7.27462596,  7.73703497,  8.19944399,\n",
       "         8.661853  ,  9.12426201,  9.58667103, 10.04908004, 10.51148905,\n",
       "        10.97389807]),\n",
       " <BarContainer object of 30 artists>)"
      ]
     },
     "execution_count": 28,
     "metadata": {},
     "output_type": "execute_result"
    },
    {
     "data": {
      "image/png": "[encoded data removed]",
      "text/plain": [
       "<Figure size 432x288 with 1 Axes>"
      ]
     },
     "metadata": {
      "needs_background": "light"
     },
     "output_type": "display_data"
    }
   ],
   "source": [
    "plt.hist(sample, bins=30)"
   ]
  },
  {
   "cell_type": "code",
   "execution_count": 30,
   "metadata": {},
   "outputs": [
    {
     "data": {
      "text/plain": [
       "[<matplotlib.lines.Line2D at 0x7f668baebd90>]"
      ]
     },
     "execution_count": 30,
     "metadata": {},
     "output_type": "execute_result"
    },
    {
     "data": {
      "image/png": "[encoded data removed]",
      "text/plain": [
       "<Figure size 432x288 with 1 Axes>"
      ]
     },
     "metadata": {
      "needs_background": "light"
     },
     "output_type": "display_data"
    }
   ],
   "source": [
    "_, bins, _ = plt.hist(sample, bins=30, density=True)\n",
    "plt.plot(bins, 1/(desvio * np.sqrt(2 * np.pi)) *\n",
    "               np.exp( - (bins - media)**2 / (2 * desvio**2) ),\n",
    "         linewidth=2, color='r')"
   ]
  },
  {
   "cell_type": "code",
   "execution_count": null,
   "metadata": {},
   "outputs": [],
   "source": []
  }
 ],
 "metadata": {
  "kernelspec": {
   "display_name": "Python 3",
   "language": "python",
   "name": "python3"
  },
  "language_info": {
   "codemirror_mode": {
    "name": "ipython",
    "version": 3
   },
   "file_extension": ".py",
   "mimetype": "text/x-python",
   "name": "python",
   "nbconvert_exporter": "python",
   "pygments_lexer": "ipython3",
   "version": "3.8.5"
  }
 },
 "nbformat": 4,
 "nbformat_minor": 4
}
